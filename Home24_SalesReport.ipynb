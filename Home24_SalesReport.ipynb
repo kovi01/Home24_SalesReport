{
  "nbformat": 4,
  "nbformat_minor": 0,
  "metadata": {
    "colab": {
      "provenance": []
    },
    "kernelspec": {
      "name": "python3",
      "display_name": "Python 3"
    },
    "language_info": {
      "name": "python"
    }
  },
  "cells": [
    {
      "cell_type": "code",
      "execution_count": 1,
      "metadata": {
        "colab": {
          "base_uri": "https://localhost:8080/"
        },
        "id": "FI1shWfBR82i",
        "outputId": "720c8eba-1554-48c3-e430-d77a3be3233e"
      },
      "outputs": [
        {
          "output_type": "stream",
          "name": "stdout",
          "text": [
            "Collecting pyspark\n",
            "  Downloading pyspark-3.5.1.tar.gz (317.0 MB)\n",
            "\u001b[2K     \u001b[90m━━━━━━━━━━━━━━━━━━━━━━━━━━━━━━━━━━━━━━━━\u001b[0m \u001b[32m317.0/317.0 MB\u001b[0m \u001b[31m4.2 MB/s\u001b[0m eta \u001b[36m0:00:00\u001b[0m\n",
            "\u001b[?25h  Preparing metadata (setup.py) ... \u001b[?25l\u001b[?25hdone\n",
            "Requirement already satisfied: py4j==0.10.9.7 in /usr/local/lib/python3.10/dist-packages (from pyspark) (0.10.9.7)\n",
            "Building wheels for collected packages: pyspark\n",
            "  Building wheel for pyspark (setup.py) ... \u001b[?25l\u001b[?25hdone\n",
            "  Created wheel for pyspark: filename=pyspark-3.5.1-py2.py3-none-any.whl size=317488491 sha256=f738b6680ff6eb53b196ab81028a70f902235f8bd1d2a72a91c2c71540cda50b\n",
            "  Stored in directory: /root/.cache/pip/wheels/80/1d/60/2c256ed38dddce2fdd93be545214a63e02fbd8d74fb0b7f3a6\n",
            "Successfully built pyspark\n",
            "Installing collected packages: pyspark\n",
            "Successfully installed pyspark-3.5.1\n"
          ]
        }
      ],
      "source": [
        "!pip install pyspark"
      ]
    },
    {
      "cell_type": "code",
      "source": [
        "import pyspark\n"
      ],
      "metadata": {
        "id": "nBx4jGW9SefV"
      },
      "execution_count": 3,
      "outputs": []
    },
    {
      "cell_type": "code",
      "source": [
        "from pyspark.sql import SparkSession\n",
        "from pyspark.sql.functions import col, when\n",
        "\n",
        "# Initialize Spark session\n",
        "spark = SparkSession.builder.appName(\"Marketing Campaign Report\").getOrCreate()\n",
        "\n",
        "# Load datasets\n",
        "items = spark.read.load(\"/content/items.parquet\")\n",
        "itemsStock = spark.read.load(\"/content/itemsStock.parquet\")\n",
        "campaigns = spark.read.load(\"/content/campaigns.parquet\")\n",
        "customers = spark.read.load(\"/content/customers.parquet\")\n",
        "subscriptions = spark.read.load(\"/content/subscriptions.parquet\")\n",
        "events = spark.read.load(\"/content/events.parquet\")\n",
        "\n",
        "# Filter subscribed users\n",
        "subscribed_users = subscriptions.filter(col(\"subscription_type\") == \"item_alert\")\n",
        "\n",
        "# Identify wishlist items\n",
        "wishlist_events = events.filter(col(\"event_type\") == \"addToWishlist\")\n",
        "\n",
        "# Join to get wishlist items in stock and in an active campaign\n",
        "wishlist_items_in_campaign = wishlist_events.join(items, wishlist_events.item_id == items.id) \\\n",
        "                                            .join(itemsStock, items.id == itemsStock.item_id) \\\n",
        "                                            .join(campaigns, items.id == campaigns.item_id) \\\n",
        "                                            .where(itemsStock.stock_quantity > 0)\n",
        "\n",
        "# Calculate final price after discount\n",
        "final_prices = wishlist_items_in_campaign.withColumn(\"final_price\",\n",
        "                                                     col(\"price\") - (col(\"price\") * col(\"discount\") / 100))\n",
        "\n",
        "# Join with customers to get user details\n",
        "final_report = final_prices.join(customers, wishlist_events.customer_id == customers.id) \\\n",
        "                           .join(subscribed_users, customers.id == subscribed_users.customer_id) \\\n",
        "                           .select(customers.first_name, customers.email, items.name, items.url, \"final_price\")\n",
        "\n",
        "# Show or save the report\n",
        "final_report.show()  # or final_report.write.format(\"...\").save(\"path_to_save_report\")\n",
        "\n",
        "\n"
      ],
      "metadata": {
        "id": "Dl-ks1kvTHjJ",
        "colab": {
          "base_uri": "https://localhost:8080/"
        },
        "outputId": "1d6e4e1c-12f4-42bb-bee8-0765e56f01c8"
      },
      "execution_count": 4,
      "outputs": [
        {
          "output_type": "stream",
          "name": "stdout",
          "text": [
            "+----------+--------------------+--------------------+--------------------+------------------+\n",
            "|first_name|               email|                name|                 url|       final_price|\n",
            "+----------+--------------------+--------------------+--------------------+------------------+\n",
            "|    Galina|grobioudg@china.c...|Bild gemalt Dubli...|produkt/bild-gema...|          143.3015|\n",
            "|    Wright|wmarcoolyndj@so-n...|Matratze 150x190 ...|produkt/matratze-...|              15.2|\n",
            "|    Wright|wmarcoolyndj@so-n...|Unitapete Weiß - ...|produkt/unitapete...|35.160000000000004|\n",
            "|    Wright|wmarcoolyndj@so-n...|Servierwagen FKW1...|produkt/servierwa...| 67.95750000000001|\n",
            "|    Wright|wmarcoolyndj@so-n...|Servierwagen FKW1...|produkt/servierwa...|            71.955|\n",
            "|    Wright|wmarcoolyndj@so-n...|Hängeschrank BAHA...|produkt/haengesch...|             521.6|\n",
            "|    Enrika|    etoplin71@w3.org|Leinwandbild Asse...|produkt/leinwandb...|             23.96|\n",
            "|    Enrika|    etoplin71@w3.org|Spannbetttuch Eas...|produkt/spannbett...|39.057500000000005|\n",
            "|    Armand| alivens75@yandex.ru|Ein Glasspender -...|produkt/ein-glass...|            2.5415|\n",
            "|    Armand| alivens75@yandex.ru|Deckenlampe Indus...|produkt/deckenlam...|          231.1405|\n",
            "|    Miriam|mlabastida1m@para...|Polsterbett SANTO...|produkt/polsterbe...|            2033.1|\n",
            "|    Carlin| cfittese7@nymag.com|Pied de lampe Jam...|article/pied-de-l...|            73.755|\n",
            "|    Carlin| cfittese7@nymag.com|Couchtisch York -...|produkt/couchtisc...|            310.36|\n",
            "|    Carlin| cfittese7@nymag.com|Patchwork - 350x2...|produkt/patchwork...|            1309.5|\n",
            "|    Farrel|    fkurtislr@si.edu|Cinderella Bettbe...|produkt/cinderell...|             27.96|\n",
            "|    Miguel|mrumblely@storify...|papier peint lign...|article/papier-pe...|             31.96|\n",
            "|    Miguel|mrumblely@storify...|Sonnenuhr Garten ...|produkt/sonnenuhr...|           33.9915|\n",
            "|    Galina|   gmingetm2@tiny.cc|Kurzflor Teppich ...|produkt/kurzflor-...|             187.0|\n",
            "|    Galina|   gmingetm2@tiny.cc|Kurzflor Teppich ...|produkt/kurzflor-...|             198.0|\n",
            "|    Carina|cbernardonen@tumb...|Hängeschrank Quic...|produkt/haengesch...|             68.85|\n",
            "+----------+--------------------+--------------------+--------------------+------------------+\n",
            "only showing top 20 rows\n",
            "\n"
          ]
        }
      ]
    },
    {
      "cell_type": "code",
      "source": [
        "from pyspark.sql.functions import col\n",
        "\n",
        "# Filter subscribed users\n",
        "subscribed_users = subscriptions.filter(col(\"subscription_type\") == \"item_alert\")\n",
        "\n",
        "# Identify wishlist or cart items\n",
        "wishlist_or_cart_events = events.filter((col(\"event_type\") == \"addToWishlist\") | (col(\"event_type\") == \"addToCart\"))\n",
        "\n",
        "# Join to get wishlist or cart items in stock and in an active campaign\n",
        "wishlist_or_cart_items_in_campaign = wishlist_or_cart_events.join(items, wishlist_or_cart_events.item_id == items.id) \\\n",
        "                                            .join(itemsStock, items.id == itemsStock.item_id) \\\n",
        "                                            .join(campaigns, items.id == campaigns.item_id) \\\n",
        "                                            .where(itemsStock.stock_quantity > 0)\n",
        "\n",
        "# Calculate final price after discount\n",
        "final_prices = wishlist_or_cart_items_in_campaign.withColumn(\"final_price\",\n",
        "                                                     col(\"price\") - (col(\"price\") * col(\"discount\") / 100))\n",
        "\n",
        "# Join with customers to get user details\n",
        "final_report = final_prices.join(customers, wishlist_or_cart_events.customer_id == customers.id) \\\n",
        "                           .join(subscribed_users, customers.id == subscribed_users.customer_id) \\\n",
        "                           .select(customers.first_name, customers.email, items.name, items.url, \"final_price\")\n",
        "final_report.count()\n"
      ],
      "metadata": {
        "id": "GtwdJ1XWhyRQ"
      },
      "execution_count": null,
      "outputs": []
    },
    {
      "cell_type": "code",
      "source": [
        "final_report.write.csv(\"/content/FinalReport/report.parquet\", header=True, mode=\"overwrite\")"
      ],
      "metadata": {
        "id": "1tJEr7CPTuDs"
      },
      "execution_count": null,
      "outputs": []
    },
    {
      "cell_type": "code",
      "source": [
        "from google.colab import drive\n",
        "drive.mount('/content/drive')"
      ],
      "metadata": {
        "id": "rqoJbb4VTXIL"
      },
      "execution_count": null,
      "outputs": []
    },
    {
      "cell_type": "code",
      "source": [
        "items.show()"
      ],
      "metadata": {
        "id": "jF9nclSivtNj"
      },
      "execution_count": null,
      "outputs": []
    },
    {
      "cell_type": "code",
      "source": [
        "campaigns.show()"
      ],
      "metadata": {
        "id": "7hr5XBVcv5aH"
      },
      "execution_count": null,
      "outputs": []
    },
    {
      "cell_type": "code",
      "source": [
        "itemsStock.show()"
      ],
      "metadata": {
        "id": "2vle7AzMv18b"
      },
      "execution_count": null,
      "outputs": []
    },
    {
      "cell_type": "code",
      "source": [
        "customers.show()"
      ],
      "metadata": {
        "id": "-TBmFtCov9Tu"
      },
      "execution_count": null,
      "outputs": []
    },
    {
      "cell_type": "code",
      "source": [
        "subscriptions.show()"
      ],
      "metadata": {
        "id": "CdcsE4m-wC_Y"
      },
      "execution_count": null,
      "outputs": []
    },
    {
      "cell_type": "code",
      "source": [
        "events.show()"
      ],
      "metadata": {
        "id": "SZjh7ccnwL27"
      },
      "execution_count": null,
      "outputs": []
    },
    {
      "cell_type": "code",
      "source": [
        "subscribed_users_check = subscriptions.filter(col(\"subscription_type\") == \"item_alert\")\n",
        "print(\"Subscribed users:\", subscribed_users_check.count())\n"
      ],
      "metadata": {
        "colab": {
          "base_uri": "https://localhost:8080/"
        },
        "id": "N1RwMDIvU2Qw",
        "outputId": "88434639-fda8-481d-96a4-e1d146e8a98a"
      },
      "execution_count": null,
      "outputs": [
        {
          "output_type": "stream",
          "name": "stdout",
          "text": [
            "Subscribed users: 101\n"
          ]
        }
      ]
    },
    {
      "cell_type": "code",
      "source": [
        "wishlist_events_check = events.filter(col(\"event_type\") == \"addToWishlist\")\n",
        "print(\"Wishlist add events:\", wishlist_events_check.count())\n"
      ],
      "metadata": {
        "colab": {
          "base_uri": "https://localhost:8080/"
        },
        "id": "xNYGMr6uU6tv",
        "outputId": "010d4641-d641-4adc-825a-e43bdf919c43"
      },
      "execution_count": null,
      "outputs": [
        {
          "output_type": "stream",
          "name": "stdout",
          "text": [
            "Wishlist add events: 9157\n"
          ]
        }
      ]
    },
    {
      "cell_type": "code",
      "source": [
        "wishlist_and_items = wishlist_events_check.join(items, wishlist_events_check.item_id == items.id)\n",
        "print(\"Wishlist items found in items dataset:\", wishlist_and_items.count())\n"
      ],
      "metadata": {
        "colab": {
          "base_uri": "https://localhost:8080/"
        },
        "id": "WPCKv5VWU9r-",
        "outputId": "af281af5-841e-43cf-cfd8-39b1a71396ff"
      },
      "execution_count": null,
      "outputs": [
        {
          "output_type": "stream",
          "name": "stdout",
          "text": [
            "Wishlist items found in items dataset: 9157\n"
          ]
        }
      ]
    },
    {
      "cell_type": "code",
      "source": [
        "items.createOrReplaceTempView(\"items\")\n",
        "itemsStock.createOrReplaceTempView(\"itemsStock\")\n",
        "campaigns.createOrReplaceTempView(\"campaigns\")\n",
        "customers.createOrReplaceTempView(\"customers\")\n",
        "subscriptions.createOrReplaceTempView(\"subscriptions\")\n",
        "events.createOrReplaceTempView(\"events\")\n"
      ],
      "metadata": {
        "id": "TaZdjK49xV4a"
      },
      "execution_count": null,
      "outputs": []
    },
    {
      "cell_type": "code",
      "source": [
        "test = spark.sql(\"\"\"\n",
        "select * from events e\n",
        "join campaigns c on c.item_id = e.item_id \"\"\" )\n",
        "\n",
        "test.show()"
      ],
      "metadata": {
        "id": "EW9ZwBB3Dc6t"
      },
      "execution_count": null,
      "outputs": []
    },
    {
      "cell_type": "code",
      "source": [
        "result = spark.sql(\"\"\"\n",
        "SELECT\n",
        "    c.first_name,\n",
        "    c.email,\n",
        "    i.name AS item_name,\n",
        "    i.url AS item_url,\n",
        "    (i.price * (1 - CAST(camp.discount AS DECIMAL) / 100)) AS final_price\n",
        "FROM\n",
        "    events e\n",
        "INNER JOIN\n",
        "    campaigns camp ON e.item_id = camp.item_id\n",
        "INNER JOIN\n",
        "    itemsStock istock ON e.item_id = istock.item_id\n",
        "INNER JOIN\n",
        "    items i ON e.item_id = i.id\n",
        "INNER JOIN\n",
        "    subscriptions subs ON e.customer_id = subs.customer_id\n",
        "INNER JOIN\n",
        "    customers c ON e.customer_id = c.id\n",
        "WHERE\n",
        "    e.event_type in ('addToWishlist','addToCart')\n",
        "    AND istock.stock_quantity > 0\n",
        "    AND subs.subscription_type = 'item_alert'\n",
        "GROUP BY\n",
        "    c.first_name,\n",
        "    c.email,\n",
        "    i.name,\n",
        "    i.url,\n",
        "    i.price,\n",
        "    camp.discount\n",
        "\"\"\")\n"
      ],
      "metadata": {
        "id": "RQoKXmubxYgk"
      },
      "execution_count": null,
      "outputs": []
    },
    {
      "cell_type": "code",
      "source": [
        "result.show()"
      ],
      "metadata": {
        "colab": {
          "base_uri": "https://localhost:8080/",
          "height": 141
        },
        "id": "t2ClwkrJxdpL",
        "outputId": "22632f7e-a478-4548-ab9f-f587df4a3f87"
      },
      "execution_count": 2,
      "outputs": [
        {
          "output_type": "error",
          "ename": "NameError",
          "evalue": "name 'result' is not defined",
          "traceback": [
            "\u001b[0;31m---------------------------------------------------------------------------\u001b[0m",
            "\u001b[0;31mNameError\u001b[0m                                 Traceback (most recent call last)",
            "\u001b[0;32m<ipython-input-2-e9c5472910e5>\u001b[0m in \u001b[0;36m<cell line: 1>\u001b[0;34m()\u001b[0m\n\u001b[0;32m----> 1\u001b[0;31m \u001b[0mresult\u001b[0m\u001b[0;34m.\u001b[0m\u001b[0mshow\u001b[0m\u001b[0;34m(\u001b[0m\u001b[0;34m)\u001b[0m\u001b[0;34m\u001b[0m\u001b[0;34m\u001b[0m\u001b[0m\n\u001b[0m",
            "\u001b[0;31mNameError\u001b[0m: name 'result' is not defined"
          ]
        }
      ]
    },
    {
      "cell_type": "code",
      "source": [
        "test_query_1 = spark.sql(\"\"\"\n",
        "SELECT e.customer_id, i.id AS item_id, i.name\n",
        "FROM events e\n",
        "JOIN items i ON e.item_id = i.id\n",
        "WHERE e.event_type in ('addToWishlist','addToCart')\n",
        "\"\"\")\n",
        "\n",
        "test_query_1.show()\n"
      ],
      "metadata": {
        "id": "KDDgCwiZ0VdR"
      },
      "execution_count": null,
      "outputs": []
    },
    {
      "cell_type": "code",
      "source": [
        "test_query2 = spark.sql(\"\"\"\n",
        "select distinct e.event_type\n",
        "from events e\n",
        " \"\"\")\n",
        "\n",
        "test_query2.show()"
      ],
      "metadata": {
        "id": "ik_SJECa0qz6"
      },
      "execution_count": null,
      "outputs": []
    },
    {
      "cell_type": "code",
      "source": [
        "test_query_2 = spark.sql(\"\"\"\n",
        "SELECT e.customer_id, i.id AS item_id, i.name, camp.name AS campaign_name\n",
        "FROM events e\n",
        "JOIN items i ON e.item_id = i.id\n",
        "JOIN campaigns camp ON i.id = camp.item_id\n",
        "WHERE e.event_type = 'addToWishlist'\n",
        "\"\"\")\n",
        "\n",
        "test_query_2.show()\n"
      ],
      "metadata": {
        "id": "h3FQCIfi0-Et"
      },
      "execution_count": null,
      "outputs": []
    },
    {
      "cell_type": "code",
      "source": [
        "test_query_3 = spark.sql(\"\"\"\n",
        "SELECT e.customer_id, i.id AS item_id, i.name, istock.stock_quantity\n",
        "FROM events e\n",
        "JOIN items i ON e.item_id = i.id\n",
        "JOIN itemsStock istock ON i.id = istock.item_id\n",
        "WHERE e.event_type = 'wishlist'\n",
        "  AND istock.stock_quantity > 0\n",
        "\"\"\")\n",
        "\n",
        "test_query_3.show()\n"
      ],
      "metadata": {
        "id": "DuCO15k71Av5"
      },
      "execution_count": null,
      "outputs": []
    },
    {
      "cell_type": "code",
      "source": [
        "test_query_4 = spark.sql(\"\"\"\n",
        "SELECT DISTINCT e.customer_id\n",
        "FROM events e\n",
        "JOIN subscriptions subs ON e.customer_id = subs.customer_id\n",
        "WHERE subs.subscription_type = 'item_alert'\n",
        "\"\"\")\n",
        "\n",
        "test_query_4.show()\n"
      ],
      "metadata": {
        "id": "PGfjvj8625Y7"
      },
      "execution_count": null,
      "outputs": []
    },
    {
      "cell_type": "code",
      "source": [
        "test = spark.sql(\"\"\"\n",
        "select distinct subscription_type from subscriptions\"\"\")\n",
        "\n",
        "test.show()"
      ],
      "metadata": {
        "id": "C9JwT3yN9SB9"
      },
      "execution_count": null,
      "outputs": []
    }
  ]
}